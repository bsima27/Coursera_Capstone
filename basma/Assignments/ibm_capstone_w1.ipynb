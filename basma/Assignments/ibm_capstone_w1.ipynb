{
 "nbformat": 4,
 "nbformat_minor": 2,
 "metadata": {
  "language_info": {
   "name": "python",
   "codemirror_mode": {
    "name": "ipython",
    "version": 3
   }
  },
  "orig_nbformat": 2,
  "file_extension": ".py",
  "mimetype": "text/x-python",
  "name": "python",
  "npconvert_exporter": "python",
  "pygments_lexer": "ipython3",
  "version": 3
 },
 "cells": [
  {
   "cell_type": "markdown",
   "metadata": {},
   "source": [
    "# Peer-graded Assignment: Capstone Project Notebook\n",
    "\n",
    "This notebook will be mainly used for the capstone project.\n",
    "  \n",
    "**P.S**: I shared the assignments directory as branche (different of whats is suggested in the instructions) since my git directory include all the work that I do for the capstone course not only the final project"
   ]
  },
  {
   "cell_type": "code",
   "execution_count": null,
   "metadata": {},
   "outputs": [],
   "source": [
    "# import pandas\n",
    "import pandas as pandas\n",
    "#import numpy as np\n",
    "import numpy as np \n",
    "\n",
    "print ('Hello Capstone Project Course!')"
   ]
  }
 ]
}