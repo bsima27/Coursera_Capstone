{
 "cells": [
  {
   "cell_type": "markdown",
   "metadata": {},
   "source": [
    "Jupyter notebook for Captstone Project.\n",
    "\n",
    "This notebook will be mainly used to comment and show the results"
   ]
  },
  {
   "cell_type": "markdown",
   "metadata": {},
   "source": [
    "Foursquare API :\n",
    "\n",
    "https://api.foursquare.com/v2/tips/ [...]\n",
    "\n",
    "Search for coffee shops : v = version\n",
    "https://api.foursquare.com/v2/venues/search?client_id=41OETWCNB2HFWA4FQ5V1BAENKWNTDOFQ4XEHKHEIC4O3QLCQ&client_secret=O12YXWSSIOJXJAC31DKR3H4JIGZ00QSNR5TZSTU4OBARTFDW&v=20180602&ll=40.73,-74.01&query=coffee\n",
    "\n",
    "Venue : id, name, location, category\n",
    "\n",
    "explore a venue : https://api.foursquare.com/v2/venues/[UNIQUE_ID]?client_id=41OETWCNB2HFWA4FQ5V1BAENKWNTDOFQ4XEHKHEIC4O3QLCQ&client_secret=O12YXWSSIOJXJAC31DKR3H4JIGZ00QSNR5TZSTU4OBARTFDW&v=20180602\n",
    "\n",
    "particular venue : id, name, url, contact, stats, rating, location, tips\n",
    "\n",
    "tips : https://api.foursquare.com/v2/venues/[UNIQUE ID]/tips?[...]\n",
    "\n",
    "users :https://api.foursquare.com/v2/users/[USER_ID]?[...]\n",
    "user : first name, last name, gender, id, contact, friends\n"
   ]
  },
  {
   "cell_type": "code",
   "execution_count": 1,
   "metadata": {},
   "outputs": [
    {
     "name": "stdout",
     "output_type": "stream",
     "text": [
      "Hello Capstone Project Course!\n"
     ]
    }
   ],
   "source": [
    "import pandas as pd\n",
    "import numpy as np\n",
    "\n",
    "print(\"Hello Capstone Project Course!\")"
   ]
  }
 ],
 "metadata": {
  "kernelspec": {
   "display_name": "Python 3",
   "language": "python",
   "name": "python3"
  },
  "language_info": {
   "codemirror_mode": {
    "name": "ipython",
    "version": 3
   },
   "file_extension": ".py",
   "mimetype": "text/x-python",
   "name": "python",
   "nbconvert_exporter": "python",
   "pygments_lexer": "ipython3",
   "version": "3.7.3"
  }
 },
 "nbformat": 4,
 "nbformat_minor": 2
}
